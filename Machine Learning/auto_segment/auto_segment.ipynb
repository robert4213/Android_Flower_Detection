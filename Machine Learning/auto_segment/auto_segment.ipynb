{
  "nbformat": 4,
  "nbformat_minor": 0,
  "metadata": {
    "colab": {
      "name": "auto_segment.ipynb",
      "provenance": [],
      "collapsed_sections": []
    },
    "kernelspec": {
      "name": "python3",
      "display_name": "Python 3"
    }
  },
  "cells": [
    {
      "cell_type": "code",
      "metadata": {
        "id": "YW4RFxtIZmlq",
        "colab_type": "code",
        "colab": {
          "base_uri": "https://localhost:8080/",
          "height": 123
        },
        "outputId": "20101f2d-3625-4656-ecea-b1c2c8eef924"
      },
      "source": [
        "from google.colab import drive\n",
        "drive.mount('/content/drive')"
      ],
      "execution_count": null,
      "outputs": [
        {
          "output_type": "stream",
          "text": [
            "Go to this URL in a browser: https://accounts.google.com/o/oauth2/auth?client_id=947318989803-6bn6qk8qdgf4n4g3pfee6491hc0brc4i.apps.googleusercontent.com&redirect_uri=urn%3aietf%3awg%3aoauth%3a2.0%3aoob&response_type=code&scope=email%20https%3a%2f%2fwww.googleapis.com%2fauth%2fdocs.test%20https%3a%2f%2fwww.googleapis.com%2fauth%2fdrive%20https%3a%2f%2fwww.googleapis.com%2fauth%2fdrive.photos.readonly%20https%3a%2f%2fwww.googleapis.com%2fauth%2fpeopleapi.readonly\n",
            "\n",
            "Enter your authorization code:\n",
            "··········\n",
            "Mounted at /content/drive\n"
          ],
          "name": "stdout"
        }
      ]
    },
    {
      "cell_type": "code",
      "metadata": {
        "id": "ppdjSURuwRT0",
        "colab_type": "code",
        "colab": {
          "base_uri": "https://localhost:8080/",
          "height": 52
        },
        "outputId": "63c9744d-18ba-4380-9f68-6be4e28feb4c"
      },
      "source": [
        "!ls\n",
        "!mkdir images\n",
        "%cd images"
      ],
      "execution_count": null,
      "outputs": [
        {
          "output_type": "stream",
          "text": [
            "drive  sample_data\n",
            "/content/images\n"
          ],
          "name": "stdout"
        }
      ]
    },
    {
      "cell_type": "code",
      "metadata": {
        "id": "_bPVUhu4s-8z",
        "colab_type": "code",
        "colab": {
          "base_uri": "https://localhost:8080/",
          "height": 55
        },
        "outputId": "87c724d5-65d1-4f98-f383-3e6fe6eef1f7"
      },
      "source": [
        "%cp -av \"/content/drive/My Drive/master_project/images.rar\" \"/content/images\"\n"
      ],
      "execution_count": null,
      "outputs": [
        {
          "output_type": "stream",
          "text": [
            "'/content/drive/My Drive/master_project/images.rar' -> '/content/images/images.rar'\n"
          ],
          "name": "stdout"
        }
      ]
    },
    {
      "cell_type": "code",
      "metadata": {
        "id": "mhIaG5fJ7ZJI",
        "colab_type": "code",
        "colab": {}
      },
      "source": [
        "%capture\n",
        "!unrar x images.rar \n",
        "!rm images.rar\n"
      ],
      "execution_count": null,
      "outputs": []
    },
    {
      "cell_type": "code",
      "metadata": {
        "id": "nkoVOPTRuUFv",
        "colab_type": "code",
        "colab": {}
      },
      "source": [
        "import\tnumpy  as  np\n",
        "import\tcv2\n",
        "from\tmatplotlib  import pyplot  as\tplt\n",
        "import os\n",
        "import  sys\n",
        "from google.colab.patches import cv2_imshow\n",
        "from multiprocessing import Pool\n",
        "\n",
        "import resource, sys\n",
        "resource.setrlimit(resource.RLIMIT_STACK, (2**31,-1))\n",
        "sys.setrecursionlimit(10**9)"
      ],
      "execution_count": null,
      "outputs": []
    },
    {
      "cell_type": "code",
      "metadata": {
        "id": "QuFRBY17uV8T",
        "colab_type": "code",
        "colab": {}
      },
      "source": [
        "def check_flower(img, thresh, height, width):\n",
        "    visted = set()\n",
        "    area = []\n",
        "    for y, row in enumerate(img):\n",
        "        for x, val in enumerate(row):\n",
        "            if (x,y) in visted:\n",
        "                continue\n",
        "            if val >= thresh:\n",
        "                points = set()\n",
        "                bounds = [width,height,0,0]\n",
        "                image_bfs(img,thresh,x,y,height, width, points, bounds)\n",
        "                visted |= points\n",
        "                if (bounds[2]-bounds[0])*(bounds[3]-bounds[1]) > height*width*0.10:\n",
        "                    area.append((*bounds, len(points),len(points)*1./((bounds[2]-bounds[0])*(bounds[3]-bounds[1])),(bounds[2]-bounds[0])*(bounds[3]-bounds[1])))\n",
        "    return area\n",
        "\n",
        "def image_bfs(img, thresh, x, y, height, width, points, bound):\n",
        "    if (x,y) in points or img[y][x] < thresh:\n",
        "        \n",
        "        return\n",
        "    points.add((x,y))\n",
        "    bound[0] = min(x,bound[0])\n",
        "    bound[1] = min(y,bound[1])\n",
        "    bound[2] = max(x,bound[2])\n",
        "    bound[3] = max(y,bound[3])\n",
        "    if x > 0 and (x-1, y) not in points:\n",
        "        image_bfs(img, thresh, x-1, y, height, width, points, bound)\n",
        "    if y > 0 and (x, y-1) not in points:\n",
        "        image_bfs(img, thresh, x, y-1, height, width, points, bound)\n",
        "    if x < width-1 and (x+1, y) not in points:\n",
        "        image_bfs(img, thresh, x+1, y, height, width, points, bound)\n",
        "    if y < height-1 and (x, y+1) not in points:\n",
        "        image_bfs(img, thresh, x, y+1, height, width, points, bound)\n",
        "\n",
        "def area_check(area,i1,i2):\n",
        "    x_l = max(area[i1][0],area[i2][0])\n",
        "    y_t = max(area[i1][1],area[i2][1])\n",
        "    x_r = min(area[i1][2],area[i2][2])\n",
        "    y_b = min(area[i1][3],area[i2][3])\n",
        "    if y_t > y_b or x_l > x_r:\n",
        "        return None\n",
        "    # print('area check',(y_b-y_t)*(x_r-x_l),area[i1][4],area[i2][4])\n",
        "    if (y_b-y_t)*(x_r-x_l) <= 0.6*min(area[i1][6],area[i2][6]):\n",
        "        return None\n",
        "    elif (y_b-y_t)*(x_r-x_l) >= min(area[i1][6],area[i2][6]):\n",
        "        return i1 if area[i1][4]<area[i2][4] else i2\n",
        "    else:\n",
        "        return i1 if area[i1][5]<area[i2][5] else i2\n",
        "\n",
        "def image_segment(path, target_path,thresh = 128):\n",
        "    # print('{:.2f} MB'.format(os.stat(path).st_size/(2**20)))\n",
        "\n",
        "    if os.stat(path).st_size > 1024*1.5*1024:\n",
        "        # print('too large')\n",
        "        return\n",
        "    img = cv2.imread(path, cv2.IMREAD_COLOR)\n",
        "    # print('shape',img.shape)\n",
        "    height, width, _ = img.shape\n",
        "    if height>=1500 or width >= 1500:\n",
        "        # print('size too large')\n",
        "        return \n",
        "    # print(os.getpid(),path)\n",
        "    res = []\n",
        "    # cv2_imshow(img)\n",
        "    for i in range(3):\n",
        "        res.extend(check_flower(img[:,:,i].tolist(),thresh,height, width))\n",
        "    # print(res)\n",
        "    passed = set()\n",
        "    for ind,crop in enumerate(res):\n",
        "        if ind in passed:\n",
        "            continue\n",
        "        for i in range(ind+1,len(res)):\n",
        "            # print(area_check(res,ind,i))\n",
        "            passed.add(area_check(res,ind,i))\n",
        "        if ind in passed:\n",
        "            continue\n",
        "        # cv2_imshow(img[crop[1]:crop[3],crop[0]:crop[2]])\n",
        "        file_name = target_path + '{}'.format('_'.join(map(str,crop[:4]))) + '_' + path.split('/')[-1]\n",
        "        # print(file_name)\n",
        "        cv2.imwrite(file_name,img[crop[1]:crop[3],crop[0]:crop[2]])\n",
        "    # print(passed)"
      ],
      "execution_count": null,
      "outputs": []
    },
    {
      "cell_type": "code",
      "metadata": {
        "id": "G84MARiRR-x8",
        "colab_type": "code",
        "colab": {}
      },
      "source": [
        "# !rm -rf \"/content/drive/My Drive/master_project/crop_2\""
      ],
      "execution_count": null,
      "outputs": []
    },
    {
      "cell_type": "code",
      "metadata": {
        "id": "hp8mLEUN2Z7M",
        "colab_type": "code",
        "colab": {}
      },
      "source": [
        "def seg_folder(folder,target,checked):\n",
        "    print('start',os.getpid(),folder)\n",
        "    count = 0\n",
        "    for img in os.listdir(folder):\n",
        "        try:\n",
        "            if img in checked:\n",
        "                continue\n",
        "            image_segment(os.path.join(folder,img),target)\n",
        "            count += 1\n",
        "        except Exception as e:\n",
        "            print(os.getpid(),e)\n",
        "            continue\n",
        "    print('finished',os.getpid(),folder,count)"
      ],
      "execution_count": null,
      "outputs": []
    },
    {
      "cell_type": "code",
      "metadata": {
        "id": "kh0pCyHVuY3s",
        "colab_type": "code",
        "colab": {}
      },
      "source": [
        "path = '/content/images/'\n",
        "types = os.listdir(path)\n",
        "types.sort()\n",
        "dist = '/content/drive/My Drive/master_project/crop_3/'\n",
        "p1 = '/content/drive/My Drive/master_project/crop/'\n",
        "if not os.path.isdir(dist):\n",
        "    os.mkdir(dist)\n",
        "print(types)\n",
        "p = Pool()\n",
        "for flower in types:\n",
        "    if not os.path.isdir(dist+flower):\n",
        "        os.mkdir(dist+flower)\n",
        "    l = os.listdir(dist+flower+'/')\n",
        "    l.extend(os.listdir(p1+flower+'/'))\n",
        "    l = map(lambda x: '_'.join(x.split('_')[4:]),l)\n",
        "    l = set(l)\n",
        "    try:\n",
        "        res = p.apply_async(seg_folder,(path+flower+'/',dist+flower+'/',l))\n",
        "        # seg_folder(path+flower+'/',dist+flower+'/',l)\n",
        "        \n",
        "    except Exception as e:\n",
        "        print(e)\n",
        "p.close()\n",
        "p.join()\n",
        "print('all finished')"
      ],
      "execution_count": null,
      "outputs": []
    },
    {
      "cell_type": "code",
      "metadata": {
        "id": "Q82aTJDgnWR0",
        "colab_type": "code",
        "colab": {
          "base_uri": "https://localhost:8080/",
          "height": 343
        },
        "outputId": "c81edfcc-5758-4ccc-bfb2-58b6f6286c74"
      },
      "source": [
        "p1 = '/content/drive/My Drive/master_project/crop/'\n",
        "p3 = '/content/drive/My Drive/master_project/crop_2/Shiyan/'\n",
        "images = {}\n",
        "for t in os.listdir(p3):\n",
        "    try:\n",
        "        s3 = set(os.listdir(p3+t+'/'))\n",
        "        s1 = set(os.listdir(p1+t+'/'))\n",
        "        print(t)\n",
        "        print(len(s1))\n",
        "        print(len(s3))\n",
        "        print(len(s3&s1))\n",
        "        count = 0\n",
        "\n",
        "        for f_name in s3&s1:\n",
        "            print(f_name)\n",
        "            # os.remove(p3+t+'/'+f_name)\n",
        "    except Exception as e:\n",
        "        print(e)\n"
      ],
      "execution_count": null,
      "outputs": [
        {
          "output_type": "stream",
          "text": [
            "[Errno 2] No such file or directory: '/content/drive/My Drive/master_project/crop/peony/'\n",
            "[Errno 2] No such file or directory: '/content/drive/My Drive/master_project/crop/start_jasmine/'\n",
            "[Errno 2] No such file or directory: '/content/drive/My Drive/master_project/crop/sunflower/'\n",
            "primula\n",
            "589\n",
            "1780\n",
            "0\n",
            "rose\n",
            "202\n",
            "2422\n",
            "0\n",
            "thorn_apple\n",
            "1118\n",
            "879\n",
            "0\n",
            "water_lily\n",
            "862\n",
            "1537\n",
            "0\n"
          ],
          "name": "stdout"
        }
      ]
    },
    {
      "cell_type": "code",
      "metadata": {
        "id": "73C-5S0L4ZtI",
        "colab_type": "code",
        "colab": {}
      },
      "source": [
        "# image_segment('/content/images/frangipani/84.jpg','/content')"
      ],
      "execution_count": null,
      "outputs": []
    },
    {
      "cell_type": "code",
      "metadata": {
        "id": "GnQ7cX8p7XMp",
        "colab_type": "code",
        "colab": {}
      },
      "source": [
        "# import zipfile\n",
        "# zf = None\n",
        "# for ind,f in enumerate(os.listdir(dist)):\n",
        "#     if ind%6 == 0:\n",
        "#         if zf:\n",
        "#             zf.close()\n",
        "#         zf = zipfile.ZipFile('drive/My Drive/master_project/crop_{}.zip'.format(ind//6+1), mode='w',allowZip64 = True)\n",
        "#     zf.write(os.path.join(dist,f))"
      ],
      "execution_count": null,
      "outputs": []
    }
  ]
}